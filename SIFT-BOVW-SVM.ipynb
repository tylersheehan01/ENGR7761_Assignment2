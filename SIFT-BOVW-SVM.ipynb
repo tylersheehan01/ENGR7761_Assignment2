{
 "cells": [
  {
   "cell_type": "markdown",
   "metadata": {},
   "source": [
    "# Bag of Visual words (or Features) of SIFT descriptors for SVM classification for detection of cars in a carpark"
   ]
  },
  {
   "cell_type": "code",
   "execution_count": 1,
   "metadata": {},
   "outputs": [],
   "source": [
    "# all required modules\n",
    "import cv2\n",
    "from skimage.transform import pyramid_gaussian\n",
    "from sklearn import svm\n",
    "from sklearn.cluster import KMeans\n",
    "from scipy.spatial import distance\n",
    "import numpy as np\n",
    "from matplotlib import pyplot as plt\n",
    "import glob\n",
    "import time\n",
    "import os"
   ]
  },
  {
   "cell_type": "markdown",
   "metadata": {},
   "source": [
    "## Functions"
   ]
  },
  {
   "cell_type": "code",
   "execution_count": 2,
   "metadata": {},
   "outputs": [],
   "source": [
    "# Import training images and put into a dictionary\n",
    "def training_images_to_dictionary(file_path):\n",
    "    image_dictionary = {}\n",
    "    for folders in os.listdir(file_path):\n",
    "        path = glob.glob(file_path + folders + \"/*.jpg\")\n",
    "        catergory = []\n",
    "        for img in path:\n",
    "            img = cv2.imread(img, 0)\n",
    "            #img = cv2.resize(img,(256,256))\n",
    "            catergory.append(img)\n",
    "            image_dictionary[folders] = catergory\n",
    "    return(image_dictionary)"
   ]
  },
  {
   "cell_type": "code",
   "execution_count": 3,
   "metadata": {},
   "outputs": [],
   "source": [
    "# Creates an instance of SIFT\n",
    "def init_sift():\n",
    "    sift = cv2.xfeatures2d.SIFT_create()\n",
    "    return(sift)"
   ]
  },
  {
   "cell_type": "code",
   "execution_count": 4,
   "metadata": {},
   "outputs": [],
   "source": [
    "# Computes SIFT keypoints and Descriptors, returns descriptors only\n",
    "def create_features(image, feature_algorithm):\n",
    "    kp, des = feature_algorithm.detectAndCompute(image, None)\n",
    "    return(des)"
   ]
  },
  {
   "cell_type": "code",
   "execution_count": 5,
   "metadata": {},
   "outputs": [],
   "source": [
    "# Returns a dictionary of features sorted into class\n",
    "def extract_features_and_order(images):\n",
    "    dictionary = {}\n",
    "    for key, value in images.items():\n",
    "        features = []\n",
    "        for img in value:\n",
    "            features.append(create_features(img, sift))\n",
    "        dictionary[key] = features\n",
    "    return(dictionary)"
   ]
  },
  {
   "cell_type": "code",
   "execution_count": 6,
   "metadata": {},
   "outputs": [],
   "source": [
    "# Returns features (descriptors) in an unordered list\n",
    "def extract_features(images):\n",
    "    feature_list = []\n",
    "    for key, value in images.items():\n",
    "        for img in value:\n",
    "            feature_list.extend(create_features(img, sift))\n",
    "    return(feature_list)"
   ]
  },
  {
   "cell_type": "code",
   "execution_count": 7,
   "metadata": {},
   "outputs": [],
   "source": [
    "# Return features clustered\n",
    "def cluster_algorithm(features, num_of_clusters):\n",
    "    kmeans = KMeans(n_clusters = num_of_clusters)\n",
    "    kmeans.fit(features)\n",
    "    cluster = kmeans.cluster_centers_ \n",
    "    return(cluster)"
   ]
  },
  {
   "cell_type": "code",
   "execution_count": 8,
   "metadata": {},
   "outputs": [],
   "source": [
    "# Creates histogram bins\n",
    "def find_index(image, center):\n",
    "    count = 0\n",
    "    ind = 0\n",
    "    for i in range(len(center)):\n",
    "        if(i == 0):\n",
    "            count = distance.euclidean(image, center[i]) \n",
    "           #count = L1_dist(image, center[i])\n",
    "        else:\n",
    "            dist = distance.euclidean(image, center[i]) \n",
    "            #dist = L1_dist(image, center[i])\n",
    "            if(dist < count):\n",
    "                ind = i\n",
    "                count = dist\n",
    "    return(ind)"
   ]
  },
  {
   "cell_type": "code",
   "execution_count": 9,
   "metadata": {},
   "outputs": [],
   "source": [
    "# creates histogram or bag of visual words (Bag of Features)\n",
    "def image_class(all_bovw, centers):\n",
    "    dict_feature = {}\n",
    "    for key,value in all_bovw.items():\n",
    "        category = []\n",
    "        for img in value:\n",
    "            histogram = np.zeros(len(centers))\n",
    "            for each_feature in img:\n",
    "                ind = find_index(each_feature, centers)\n",
    "                histogram[ind] += 1\n",
    "            category.append(histogram)\n",
    "        dict_feature[key] = category\n",
    "    return(dict_feature)"
   ]
  },
  {
   "cell_type": "code",
   "execution_count": 10,
   "metadata": {},
   "outputs": [],
   "source": [
    "# creates a histogram for a window\n",
    "def histogram(image, centres):\n",
    "    histogram = np.zeros(len(centres))\n",
    "    for each_feature in image:\n",
    "        ind = find_index(each_feature, centres)\n",
    "        histogram[ind] += 1\n",
    "    return(histogram)"
   ]
  },
  {
   "cell_type": "code",
   "execution_count": 11,
   "metadata": {},
   "outputs": [],
   "source": [
    "# function to declare and define the Support Vector Machine (SVM)\n",
    "def SVM_parameters(gam, c, Prob):\n",
    "    clf = svm.SVC(gamma = gam, C = c, probability = Prob)\n",
    "    return(clf)"
   ]
  },
  {
   "cell_type": "code",
   "execution_count": 12,
   "metadata": {},
   "outputs": [],
   "source": [
    "# function to train the SVM with data(X), and labels (Y)\n",
    "def SVM_train(clf,X,Y):\n",
    "    clf.fit(X,Y)"
   ]
  },
  {
   "cell_type": "code",
   "execution_count": 13,
   "metadata": {},
   "outputs": [],
   "source": [
    "# sliding window fuction to evaluate the test image in sections\n",
    "def sliding_window(image, stepSize, windowSize):\n",
    "    # slide a window across the image\n",
    "    for y in range(0, image.shape[0], stepSize):\n",
    "        for x in range(0, image.shape[1], stepSize):\n",
    "            # yield the current window\n",
    "            yield (x, y, image[y:y + windowSize[1], x:x + windowSize[0]])      "
   ]
  },
  {
   "cell_type": "code",
   "execution_count": 24,
   "metadata": {},
   "outputs": [],
   "source": [
    "def nms(bound_boxes, overlap_threshold):\n",
    "    valid_boxes = []\n",
    "    # Convert to np array\n",
    "    bound_boxes = np.array(bound_boxes, ndmin = 2)\n",
    "    # Sort array by first coloum (probability) in decending order\n",
    "    bound_boxes = sorted(bound_boxes, key=lambda x:x[0], reverse = True)\n",
    "    while(len(bound_boxes) > 0):    \n",
    "        # add box coordinates with greatest probabilty to return list\n",
    "        #valid_boxes.insert(0, (bound_boxes[0][1:].astype(\"int\")))\n",
    "        valid_boxes.insert(0, (bound_boxes[0].astype(\"int\")))\n",
    "        # remove from bound box list\n",
    "        bound_boxes.pop(0)\n",
    "        \n",
    "        # array index\n",
    "        index = 0\n",
    "        \n",
    "        # compare selected box with all others\n",
    "        for (p, xStart, yStart, xEnd, yEnd) in bound_boxes:\n",
    "            xmax = max(valid_boxes[0][0], xStart)\n",
    "            ymax = max(valid_boxes[0][1], yStart)\n",
    "            xmin = min(valid_boxes[0][2], xEnd)\n",
    "            ymin = min(valid_boxes[0][3], yEnd)\n",
    "            \n",
    "            # compute the area of intersection rectangle\n",
    "            interArea = (xmin - xmax + 1) * (ymin - ymax + 1)\n",
    "\n",
    "            box1 = (valid_boxes[0][2] - valid_boxes[0][0] + 1) * (valid_boxes[0][3] - valid_boxes[0][1] + 1)\n",
    "            box2 = (xEnd - xStart + 1) * (yEnd - yStart + 1)\n",
    "            # compute the intersection over union by taking the intersection\n",
    "            # area and dividing it by the sum of prediction + ground-truth\n",
    "            # areas - the interesection area\n",
    "            iou = interArea / float((box1 + box2) - interArea)\n",
    "            if interArea < 0:\n",
    "                if abs(iou) >= overlap_threshold:\n",
    "                    # add to remove list and increase index by 1\n",
    "                    bound_boxes.pop(index)\n",
    "                    index = index+1\n",
    "                else:\n",
    "                    index = index+1\n",
    "            else:\n",
    "                continue\n",
    "        \n",
    "    return (valid_boxes)"
   ]
  },
  {
   "cell_type": "markdown",
   "metadata": {},
   "source": [
    "# Main"
   ]
  },
  {
   "cell_type": "code",
   "execution_count": 16,
   "metadata": {},
   "outputs": [],
   "source": [
    "# Import the test images\n",
    "training_images = training_images_to_dictionary(\"dataset/Train/\") \n",
    "\n",
    "# Initilise SIFT\n",
    "sift = init_sift()\n",
    "\n",
    "# Create a dictionary with of sift descriptors for each training image\n",
    "feature_dictionary_training = extract_features_and_order(training_images)\n",
    "\n",
    "# Create a list of the features relating to the training images\n",
    "feature_list = extract_features(training_images)\n",
    "\n",
    "# cluster features to create visual words\n",
    "visual_words = cluster_algorithm(feature_list, 50)\n",
    "\n",
    "# Creates histograms for train data    \n",
    "bovw_train = image_class(feature_dictionary_training, visual_words) \n",
    "\n",
    "# Stack feature histograms\n",
    "Data1 = np.asarray(bovw_train['car'], dtype=np.float32)\n",
    "Data2 = np.asarray(bovw_train['not_car'], dtype=np.float32)\n",
    "Data = np.vstack((Data1, Data2))\n",
    "\n",
    "# Create labels\n",
    "label1 = np.ones(len(bovw_train['car']), dtype=int)\n",
    "label2 = np.negative(np.ones(len(bovw_train['not_car']), dtype=int))\n",
    "labels = np.append(label1, label2)"
   ]
  },
  {
   "cell_type": "code",
   "execution_count": 17,
   "metadata": {},
   "outputs": [],
   "source": [
    "# Define SVM\n",
    "my_SVM = SVM_parameters(0.0001, 100, True)\n",
    "\n",
    "# Train the SVM\n",
    "SVM_train(my_SVM,Data,labels)"
   ]
  },
  {
   "cell_type": "code",
   "execution_count": 19,
   "metadata": {},
   "outputs": [
    {
     "name": "stdout",
     "output_type": "stream",
     "text": [
      "finished\n"
     ]
    }
   ],
   "source": [
    "# Define parameters for windowing operation\n",
    "# Define windowsize\n",
    "(winW, winH) = (72,180)\n",
    "# Define stepSize\n",
    "stepSize = 15\n",
    "# Define images\n",
    "image = cv2.imread(\"dataset/TestImage/Carpark_1.jpg\", 0)\n",
    "image = cv2.resize(image, (1920,1080))\n",
    "image_colour = cv2.imread(\"dataset/TestImage/Carpark_1.jpg\")\n",
    "image_colour = cv2.resize(image_colour, (1920,1080))\n",
    "image_colour = image_colour.copy()\n",
    "box_details = []\n",
    "# slide window across image\n",
    "for (x, y, window) in sliding_window(image, stepSize, windowSize=(winW, winH)):\n",
    "    if (window.shape[0] != winH) or (window.shape[1] != winW):\n",
    "        continue\n",
    "\n",
    "     # get features (descriptors) of the current window\n",
    "    window_descriptors = create_features(window, sift)\n",
    "\n",
    "    if window_descriptors is not None:\n",
    "\n",
    "        #list for combining bouding box coordinates and it probability\n",
    "        probability_and_location = []\n",
    "\n",
    "        # create a histogram of those features\n",
    "        BagOfFeatures_window = histogram(window_descriptors, visual_words)\n",
    "\n",
    "        # find probabilty that the window belongs to class 'car'\n",
    "        probability = (my_SVM.predict_proba([BagOfFeatures_window]))[:,1]\n",
    "        # represent percentage as a whole nubmer (divide by 100 to get perecentage to 2 decimal places)\n",
    "        probability = probability*10000\n",
    "        # if the probability is greater than or equal to 80 percent then draw a bounding box\n",
    "        if probability >= 8000:\n",
    "            # put bounding box coordinates and probability in an array\n",
    "            probability_and_location = [probability[0], x, y, (x+winW), (y+winH)]\n",
    "            box_details.append(np.array(probability_and_location))\n",
    "            # draw bounding box and display image\n",
    "            cv2.rectangle(image_colour, (x, y), (x + winW, y + winH), (0, 255, 0),2)\n",
    "            cv2.namedWindow('Carpark',cv2.WINDOW_NORMAL)\n",
    "            cv2.imshow(\"Carpark\", image_colour)   \n",
    "            cv2.waitKey(1)\n",
    "            time.sleep(0.025)\n",
    "\n",
    "        else:\n",
    "            continue\n",
    "else:\n",
    "    # Save image and close window\n",
    "    cv2.imwrite(\"Detection_without_NMS.jpg\", image_colour)\n",
    "    cv2.destroyAllWindows()  \n",
    "    print(\"finished\")"
   ]
  },
  {
   "cell_type": "code",
   "execution_count": 30,
   "metadata": {},
   "outputs": [
    {
     "name": "stdout",
     "output_type": "stream",
     "text": [
      "finished\n"
     ]
    }
   ],
   "source": [
    "image_colour = cv2.imread(\"dataset/TestImage/Carpark_1.jpg\")\n",
    "image_colour = cv2.resize(image_colour, (1920,1080))\n",
    "image_colour = image_colour.copy()\n",
    "\n",
    "pick = nms(box_details, 0.5)\n",
    "for (p, startX, startY, endX, endY) in pick:\n",
    "    cv2.rectangle(image_colour, (startX, startY), (endX, endY), (0, 255, 0), 2)\n",
    "    cv2.namedWindow('After NMS',cv2.WINDOW_NORMAL)\n",
    "    cv2.imshow(\"After NMS\", image_colour)\n",
    "    cv2.waitKey(1)\n",
    "    time.sleep(0.025)\n",
    "else:\n",
    "    cv2.imwrite(\"After NMS.jpg\", image_colour)\n",
    "    cv2.destroyAllWindows()  \n",
    "    print(\"finished\")"
   ]
  },
  {
   "cell_type": "code",
   "execution_count": null,
   "metadata": {},
   "outputs": [],
   "source": []
  }
 ],
 "metadata": {
  "kernelspec": {
   "display_name": "Python 3",
   "language": "python",
   "name": "python3"
  },
  "language_info": {
   "codemirror_mode": {
    "name": "ipython",
    "version": 3
   },
   "file_extension": ".py",
   "mimetype": "text/x-python",
   "name": "python",
   "nbconvert_exporter": "python",
   "pygments_lexer": "ipython3",
   "version": "3.7.4"
  }
 },
 "nbformat": 4,
 "nbformat_minor": 4
}
